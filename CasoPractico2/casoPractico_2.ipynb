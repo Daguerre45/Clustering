{
 "cells": [
  {
   "cell_type": "code",
   "execution_count": 31,
   "metadata": {},
   "outputs": [
    {
     "name": "stdout",
     "output_type": "stream",
     "text": [
      "Requirement already satisfied: pandas in c:\\users\\adtda\\appdata\\local\\packages\\pythonsoftwarefoundation.python.3.11_qbz5n2kfra8p0\\localcache\\local-packages\\python311\\site-packages (2.2.3)\n",
      "Requirement already satisfied: numpy in c:\\users\\adtda\\appdata\\local\\packages\\pythonsoftwarefoundation.python.3.11_qbz5n2kfra8p0\\localcache\\local-packages\\python311\\site-packages (1.23.5)\n",
      "Requirement already satisfied: matplotlib in c:\\users\\adtda\\appdata\\local\\packages\\pythonsoftwarefoundation.python.3.11_qbz5n2kfra8p0\\localcache\\local-packages\\python311\\site-packages (3.10.0)\n",
      "Requirement already satisfied: seaborn in c:\\users\\adtda\\appdata\\local\\packages\\pythonsoftwarefoundation.python.3.11_qbz5n2kfra8p0\\localcache\\local-packages\\python311\\site-packages (0.13.2)\n",
      "Requirement already satisfied: python-dateutil>=2.8.2 in c:\\users\\adtda\\appdata\\local\\packages\\pythonsoftwarefoundation.python.3.11_qbz5n2kfra8p0\\localcache\\local-packages\\python311\\site-packages (from pandas) (2.9.0.post0)\n",
      "Requirement already satisfied: pytz>=2020.1 in c:\\users\\adtda\\appdata\\local\\packages\\pythonsoftwarefoundation.python.3.11_qbz5n2kfra8p0\\localcache\\local-packages\\python311\\site-packages (from pandas) (2025.1)\n",
      "Requirement already satisfied: tzdata>=2022.7 in c:\\users\\adtda\\appdata\\local\\packages\\pythonsoftwarefoundation.python.3.11_qbz5n2kfra8p0\\localcache\\local-packages\\python311\\site-packages (from pandas) (2025.1)\n",
      "Requirement already satisfied: contourpy>=1.0.1 in c:\\users\\adtda\\appdata\\local\\packages\\pythonsoftwarefoundation.python.3.11_qbz5n2kfra8p0\\localcache\\local-packages\\python311\\site-packages (from matplotlib) (1.3.1)\n",
      "Requirement already satisfied: cycler>=0.10 in c:\\users\\adtda\\appdata\\local\\packages\\pythonsoftwarefoundation.python.3.11_qbz5n2kfra8p0\\localcache\\local-packages\\python311\\site-packages (from matplotlib) (0.12.1)\n",
      "Requirement already satisfied: fonttools>=4.22.0 in c:\\users\\adtda\\appdata\\local\\packages\\pythonsoftwarefoundation.python.3.11_qbz5n2kfra8p0\\localcache\\local-packages\\python311\\site-packages (from matplotlib) (4.56.0)\n",
      "Requirement already satisfied: kiwisolver>=1.3.1 in c:\\users\\adtda\\appdata\\local\\packages\\pythonsoftwarefoundation.python.3.11_qbz5n2kfra8p0\\localcache\\local-packages\\python311\\site-packages (from matplotlib) (1.4.8)\n",
      "Requirement already satisfied: packaging>=20.0 in c:\\users\\adtda\\appdata\\local\\packages\\pythonsoftwarefoundation.python.3.11_qbz5n2kfra8p0\\localcache\\local-packages\\python311\\site-packages (from matplotlib) (24.2)\n",
      "Requirement already satisfied: pillow>=8 in c:\\users\\adtda\\appdata\\local\\packages\\pythonsoftwarefoundation.python.3.11_qbz5n2kfra8p0\\localcache\\local-packages\\python311\\site-packages (from matplotlib) (11.1.0)\n",
      "Requirement already satisfied: pyparsing>=2.3.1 in c:\\users\\adtda\\appdata\\local\\packages\\pythonsoftwarefoundation.python.3.11_qbz5n2kfra8p0\\localcache\\local-packages\\python311\\site-packages (from matplotlib) (3.2.1)\n",
      "Requirement already satisfied: six>=1.5 in c:\\users\\adtda\\appdata\\local\\packages\\pythonsoftwarefoundation.python.3.11_qbz5n2kfra8p0\\localcache\\local-packages\\python311\\site-packages (from python-dateutil>=2.8.2->pandas) (1.17.0)\n",
      "Note: you may need to restart the kernel to use updated packages.\n"
     ]
    },
    {
     "name": "stderr",
     "output_type": "stream",
     "text": [
      "\n",
      "[notice] A new release of pip is available: 24.0 -> 25.0.1\n",
      "[notice] To update, run: C:\\Users\\adtda\\AppData\\Local\\Microsoft\\WindowsApps\\PythonSoftwareFoundation.Python.3.11_qbz5n2kfra8p0\\python.exe -m pip install --upgrade pip\n"
     ]
    }
   ],
   "source": [
    "%pip install pandas numpy matplotlib seaborn\n",
    "# Supress Warnings\n",
    "import warnings\n",
    "warnings.filterwarnings('ignore')\n",
    "\n",
    "# Importing libraries\n",
    "import numpy as np # operaciones matematicas\n",
    "import pandas as pd # manipular datos\n",
    "import matplotlib.pyplot as plt # graficas\n",
    "import seaborn as sns # graficas\n",
    "sns.set_theme(style=\"darkgrid\")\n",
    "%matplotlib inline\n",
    "\n",
    "# Data display customization\n",
    "pd.set_option('display.max_rows', 100)\n",
    "pd.set_option('display.max_columns', 100)"
   ]
  },
  {
   "cell_type": "code",
   "execution_count": 32,
   "metadata": {},
   "outputs": [],
   "source": [
    "#### Funciones auxiliares ######\n",
    "def porcentaje_nulos(dataframe):\n",
    "    # Calcula el porcentaje de valores nulos en cada columna\n",
    "    porcentaje_nas = (dataframe.isnull().mean() * 100).round(2)\n",
    "\n",
    "    # Convierte la información a un diccionario\n",
    "    dict_nulos = porcentaje_nas.to_dict()\n",
    "\n",
    "    return dict_nulos\n",
    "\n",
    "def eliminar_columnas_con_nulos(df, umbral=0.15):\n",
    "\n",
    "    # Calcula el porcentaje de valores nulos por columna\n",
    "    porcentaje_nulos = df.isnull().mean()\n",
    "\n",
    "    # Filtra las columnas que tienen menos del umbral de valores nulos\n",
    "    columnas_a_mantener = porcentaje_nulos[porcentaje_nulos <= (1 - umbral)].index\n",
    "\n",
    "    # Crea un nuevo DataFrame con las columnas seleccionadas\n",
    "    df_resultante = df[columnas_a_mantener].copy()\n",
    "\n",
    "    return df_resultante"
   ]
  },
  {
   "cell_type": "code",
   "execution_count": 33,
   "metadata": {},
   "outputs": [
    {
     "data": {
      "text/plain": [
       "(10695, 10)"
      ]
     },
     "execution_count": 33,
     "metadata": {},
     "output_type": "execute_result"
    }
   ],
   "source": [
    "customer_df = pd.read_csv('archive/customer.csv')\n",
    "customer_df.shape"
   ]
  },
  {
   "cell_type": "code",
   "execution_count": 34,
   "metadata": {},
   "outputs": [
    {
     "name": "stdout",
     "output_type": "stream",
     "text": [
      "<class 'pandas.core.frame.DataFrame'>\n",
      "RangeIndex: 10695 entries, 0 to 10694\n",
      "Data columns (total 10 columns):\n",
      " #   Column           Non-Null Count  Dtype  \n",
      "---  ------           --------------  -----  \n",
      " 0   ID               10695 non-null  int64  \n",
      " 1   Gender           10695 non-null  object \n",
      " 2   Ever_Married     10505 non-null  object \n",
      " 3   Age              10695 non-null  int64  \n",
      " 4   Graduated        10593 non-null  object \n",
      " 5   Profession       10533 non-null  object \n",
      " 6   Work_Experience  9597 non-null   float64\n",
      " 7   Spending_Score   10695 non-null  object \n",
      " 8   Family_Size      10247 non-null  float64\n",
      " 9   Var_1            10587 non-null  object \n",
      "dtypes: float64(2), int64(2), object(6)\n",
      "memory usage: 835.7+ KB\n"
     ]
    }
   ],
   "source": [
    "customer_df.info()"
   ]
  },
  {
   "cell_type": "code",
   "execution_count": 35,
   "metadata": {},
   "outputs": [
    {
     "data": {
      "text/html": [
       "<div>\n",
       "<style scoped>\n",
       "    .dataframe tbody tr th:only-of-type {\n",
       "        vertical-align: middle;\n",
       "    }\n",
       "\n",
       "    .dataframe tbody tr th {\n",
       "        vertical-align: top;\n",
       "    }\n",
       "\n",
       "    .dataframe thead th {\n",
       "        text-align: right;\n",
       "    }\n",
       "</style>\n",
       "<table border=\"1\" class=\"dataframe\">\n",
       "  <thead>\n",
       "    <tr style=\"text-align: right;\">\n",
       "      <th></th>\n",
       "      <th>ID</th>\n",
       "      <th>Gender</th>\n",
       "      <th>Ever_Married</th>\n",
       "      <th>Age</th>\n",
       "      <th>Graduated</th>\n",
       "      <th>Profession</th>\n",
       "      <th>Work_Experience</th>\n",
       "      <th>Spending_Score</th>\n",
       "      <th>Family_Size</th>\n",
       "      <th>Var_1</th>\n",
       "    </tr>\n",
       "  </thead>\n",
       "  <tbody>\n",
       "    <tr>\n",
       "      <th>0</th>\n",
       "      <td>458989</td>\n",
       "      <td>Female</td>\n",
       "      <td>Yes</td>\n",
       "      <td>36</td>\n",
       "      <td>Yes</td>\n",
       "      <td>Engineer</td>\n",
       "      <td>0.0</td>\n",
       "      <td>Low</td>\n",
       "      <td>1.0</td>\n",
       "      <td>Cat_6</td>\n",
       "    </tr>\n",
       "    <tr>\n",
       "      <th>1</th>\n",
       "      <td>458994</td>\n",
       "      <td>Male</td>\n",
       "      <td>Yes</td>\n",
       "      <td>37</td>\n",
       "      <td>Yes</td>\n",
       "      <td>Healthcare</td>\n",
       "      <td>8.0</td>\n",
       "      <td>Average</td>\n",
       "      <td>4.0</td>\n",
       "      <td>Cat_6</td>\n",
       "    </tr>\n",
       "    <tr>\n",
       "      <th>2</th>\n",
       "      <td>458996</td>\n",
       "      <td>Female</td>\n",
       "      <td>Yes</td>\n",
       "      <td>69</td>\n",
       "      <td>No</td>\n",
       "      <td>NaN</td>\n",
       "      <td>0.0</td>\n",
       "      <td>Low</td>\n",
       "      <td>1.0</td>\n",
       "      <td>Cat_6</td>\n",
       "    </tr>\n",
       "    <tr>\n",
       "      <th>3</th>\n",
       "      <td>459000</td>\n",
       "      <td>Male</td>\n",
       "      <td>Yes</td>\n",
       "      <td>59</td>\n",
       "      <td>No</td>\n",
       "      <td>Executive</td>\n",
       "      <td>11.0</td>\n",
       "      <td>High</td>\n",
       "      <td>2.0</td>\n",
       "      <td>Cat_6</td>\n",
       "    </tr>\n",
       "    <tr>\n",
       "      <th>4</th>\n",
       "      <td>459001</td>\n",
       "      <td>Female</td>\n",
       "      <td>No</td>\n",
       "      <td>19</td>\n",
       "      <td>No</td>\n",
       "      <td>Marketing</td>\n",
       "      <td>NaN</td>\n",
       "      <td>Low</td>\n",
       "      <td>4.0</td>\n",
       "      <td>Cat_6</td>\n",
       "    </tr>\n",
       "  </tbody>\n",
       "</table>\n",
       "</div>"
      ],
      "text/plain": [
       "       ID  Gender Ever_Married  Age Graduated  Profession  Work_Experience  \\\n",
       "0  458989  Female          Yes   36       Yes    Engineer              0.0   \n",
       "1  458994    Male          Yes   37       Yes  Healthcare              8.0   \n",
       "2  458996  Female          Yes   69        No         NaN              0.0   \n",
       "3  459000    Male          Yes   59        No   Executive             11.0   \n",
       "4  459001  Female           No   19        No   Marketing              NaN   \n",
       "\n",
       "  Spending_Score  Family_Size  Var_1  \n",
       "0            Low          1.0  Cat_6  \n",
       "1        Average          4.0  Cat_6  \n",
       "2            Low          1.0  Cat_6  \n",
       "3           High          2.0  Cat_6  \n",
       "4            Low          4.0  Cat_6  "
      ]
     },
     "execution_count": 35,
     "metadata": {},
     "output_type": "execute_result"
    }
   ],
   "source": [
    "customer_df.head()"
   ]
  },
  {
   "cell_type": "code",
   "execution_count": 36,
   "metadata": {},
   "outputs": [
    {
     "data": {
      "text/html": [
       "<div>\n",
       "<style scoped>\n",
       "    .dataframe tbody tr th:only-of-type {\n",
       "        vertical-align: middle;\n",
       "    }\n",
       "\n",
       "    .dataframe tbody tr th {\n",
       "        vertical-align: top;\n",
       "    }\n",
       "\n",
       "    .dataframe thead th {\n",
       "        text-align: right;\n",
       "    }\n",
       "</style>\n",
       "<table border=\"1\" class=\"dataframe\">\n",
       "  <thead>\n",
       "    <tr style=\"text-align: right;\">\n",
       "      <th></th>\n",
       "      <th>ID</th>\n",
       "      <th>Age</th>\n",
       "      <th>Work_Experience</th>\n",
       "      <th>Family_Size</th>\n",
       "    </tr>\n",
       "  </thead>\n",
       "  <tbody>\n",
       "    <tr>\n",
       "      <th>count</th>\n",
       "      <td>10695.000000</td>\n",
       "      <td>10695.000000</td>\n",
       "      <td>9597.000000</td>\n",
       "      <td>10247.000000</td>\n",
       "    </tr>\n",
       "    <tr>\n",
       "      <th>mean</th>\n",
       "      <td>463468.088640</td>\n",
       "      <td>43.511828</td>\n",
       "      <td>2.619777</td>\n",
       "      <td>2.844052</td>\n",
       "    </tr>\n",
       "    <tr>\n",
       "      <th>std</th>\n",
       "      <td>2600.966411</td>\n",
       "      <td>16.774158</td>\n",
       "      <td>3.390790</td>\n",
       "      <td>1.536427</td>\n",
       "    </tr>\n",
       "    <tr>\n",
       "      <th>min</th>\n",
       "      <td>458982.000000</td>\n",
       "      <td>18.000000</td>\n",
       "      <td>0.000000</td>\n",
       "      <td>1.000000</td>\n",
       "    </tr>\n",
       "    <tr>\n",
       "      <th>25%</th>\n",
       "      <td>461220.500000</td>\n",
       "      <td>30.000000</td>\n",
       "      <td>0.000000</td>\n",
       "      <td>2.000000</td>\n",
       "    </tr>\n",
       "    <tr>\n",
       "      <th>50%</th>\n",
       "      <td>463451.000000</td>\n",
       "      <td>41.000000</td>\n",
       "      <td>1.000000</td>\n",
       "      <td>3.000000</td>\n",
       "    </tr>\n",
       "    <tr>\n",
       "      <th>75%</th>\n",
       "      <td>465733.500000</td>\n",
       "      <td>53.000000</td>\n",
       "      <td>4.000000</td>\n",
       "      <td>4.000000</td>\n",
       "    </tr>\n",
       "    <tr>\n",
       "      <th>max</th>\n",
       "      <td>467974.000000</td>\n",
       "      <td>89.000000</td>\n",
       "      <td>14.000000</td>\n",
       "      <td>9.000000</td>\n",
       "    </tr>\n",
       "  </tbody>\n",
       "</table>\n",
       "</div>"
      ],
      "text/plain": [
       "                  ID           Age  Work_Experience   Family_Size\n",
       "count   10695.000000  10695.000000      9597.000000  10247.000000\n",
       "mean   463468.088640     43.511828         2.619777      2.844052\n",
       "std      2600.966411     16.774158         3.390790      1.536427\n",
       "min    458982.000000     18.000000         0.000000      1.000000\n",
       "25%    461220.500000     30.000000         0.000000      2.000000\n",
       "50%    463451.000000     41.000000         1.000000      3.000000\n",
       "75%    465733.500000     53.000000         4.000000      4.000000\n",
       "max    467974.000000     89.000000        14.000000      9.000000"
      ]
     },
     "execution_count": 36,
     "metadata": {},
     "output_type": "execute_result"
    }
   ],
   "source": [
    "customer_df.describe()"
   ]
  },
  {
   "cell_type": "code",
   "execution_count": 37,
   "metadata": {},
   "outputs": [
    {
     "data": {
      "text/html": [
       "<div>\n",
       "<style scoped>\n",
       "    .dataframe tbody tr th:only-of-type {\n",
       "        vertical-align: middle;\n",
       "    }\n",
       "\n",
       "    .dataframe tbody tr th {\n",
       "        vertical-align: top;\n",
       "    }\n",
       "\n",
       "    .dataframe thead th {\n",
       "        text-align: right;\n",
       "    }\n",
       "</style>\n",
       "<table border=\"1\" class=\"dataframe\">\n",
       "  <thead>\n",
       "    <tr style=\"text-align: right;\">\n",
       "      <th></th>\n",
       "      <th>Gender</th>\n",
       "      <th>Ever_Married</th>\n",
       "      <th>Graduated</th>\n",
       "      <th>Profession</th>\n",
       "      <th>Spending_Score</th>\n",
       "      <th>Var_1</th>\n",
       "    </tr>\n",
       "  </thead>\n",
       "  <tbody>\n",
       "    <tr>\n",
       "      <th>count</th>\n",
       "      <td>10695</td>\n",
       "      <td>10505</td>\n",
       "      <td>10593</td>\n",
       "      <td>10533</td>\n",
       "      <td>10695</td>\n",
       "      <td>10587</td>\n",
       "    </tr>\n",
       "    <tr>\n",
       "      <th>unique</th>\n",
       "      <td>2</td>\n",
       "      <td>2</td>\n",
       "      <td>2</td>\n",
       "      <td>9</td>\n",
       "      <td>3</td>\n",
       "      <td>7</td>\n",
       "    </tr>\n",
       "    <tr>\n",
       "      <th>top</th>\n",
       "      <td>Male</td>\n",
       "      <td>Yes</td>\n",
       "      <td>Yes</td>\n",
       "      <td>Artist</td>\n",
       "      <td>Low</td>\n",
       "      <td>Cat_6</td>\n",
       "    </tr>\n",
       "    <tr>\n",
       "      <th>freq</th>\n",
       "      <td>5841</td>\n",
       "      <td>6163</td>\n",
       "      <td>6570</td>\n",
       "      <td>3318</td>\n",
       "      <td>6494</td>\n",
       "      <td>6910</td>\n",
       "    </tr>\n",
       "  </tbody>\n",
       "</table>\n",
       "</div>"
      ],
      "text/plain": [
       "       Gender Ever_Married Graduated Profession Spending_Score  Var_1\n",
       "count   10695        10505     10593      10533          10695  10587\n",
       "unique      2            2         2          9              3      7\n",
       "top      Male          Yes       Yes     Artist            Low  Cat_6\n",
       "freq     5841         6163      6570       3318           6494   6910"
      ]
     },
     "execution_count": 37,
     "metadata": {},
     "output_type": "execute_result"
    }
   ],
   "source": [
    "customer_df.describe(include='object')"
   ]
  },
  {
   "cell_type": "code",
   "execution_count": 38,
   "metadata": {},
   "outputs": [
    {
     "data": {
      "text/html": [
       "<div>\n",
       "<style scoped>\n",
       "    .dataframe tbody tr th:only-of-type {\n",
       "        vertical-align: middle;\n",
       "    }\n",
       "\n",
       "    .dataframe tbody tr th {\n",
       "        vertical-align: top;\n",
       "    }\n",
       "\n",
       "    .dataframe thead th {\n",
       "        text-align: right;\n",
       "    }\n",
       "</style>\n",
       "<table border=\"1\" class=\"dataframe\">\n",
       "  <thead>\n",
       "    <tr style=\"text-align: right;\">\n",
       "      <th></th>\n",
       "      <th>ID</th>\n",
       "      <th>Age</th>\n",
       "      <th>Work_Experience</th>\n",
       "      <th>Family_Size</th>\n",
       "    </tr>\n",
       "  </thead>\n",
       "  <tbody>\n",
       "    <tr>\n",
       "      <th>ID</th>\n",
       "      <td>1.000000</td>\n",
       "      <td>-0.009562</td>\n",
       "      <td>-0.029351</td>\n",
       "      <td>0.014095</td>\n",
       "    </tr>\n",
       "    <tr>\n",
       "      <th>Age</th>\n",
       "      <td>-0.009562</td>\n",
       "      <td>1.000000</td>\n",
       "      <td>-0.189653</td>\n",
       "      <td>-0.281725</td>\n",
       "    </tr>\n",
       "    <tr>\n",
       "      <th>Work_Experience</th>\n",
       "      <td>-0.029351</td>\n",
       "      <td>-0.189653</td>\n",
       "      <td>1.000000</td>\n",
       "      <td>-0.065163</td>\n",
       "    </tr>\n",
       "    <tr>\n",
       "      <th>Family_Size</th>\n",
       "      <td>0.014095</td>\n",
       "      <td>-0.281725</td>\n",
       "      <td>-0.065163</td>\n",
       "      <td>1.000000</td>\n",
       "    </tr>\n",
       "  </tbody>\n",
       "</table>\n",
       "</div>"
      ],
      "text/plain": [
       "                       ID       Age  Work_Experience  Family_Size\n",
       "ID               1.000000 -0.009562        -0.029351     0.014095\n",
       "Age             -0.009562  1.000000        -0.189653    -0.281725\n",
       "Work_Experience -0.029351 -0.189653         1.000000    -0.065163\n",
       "Family_Size      0.014095 -0.281725        -0.065163     1.000000"
      ]
     },
     "execution_count": 38,
     "metadata": {},
     "output_type": "execute_result"
    }
   ],
   "source": [
    "customer_df.corr(numeric_only=True)"
   ]
  },
  {
   "cell_type": "code",
   "execution_count": 39,
   "metadata": {},
   "outputs": [
    {
     "name": "stdout",
     "output_type": "stream",
     "text": [
      "Requirement already satisfied: jinja2 in c:\\users\\adtda\\appdata\\local\\packages\\pythonsoftwarefoundation.python.3.11_qbz5n2kfra8p0\\localcache\\local-packages\\python311\\site-packages (3.1.6)\n",
      "Requirement already satisfied: MarkupSafe>=2.0 in c:\\users\\adtda\\appdata\\local\\packages\\pythonsoftwarefoundation.python.3.11_qbz5n2kfra8p0\\localcache\\local-packages\\python311\\site-packages (from jinja2) (3.0.2)\n",
      "Note: you may need to restart the kernel to use updated packages.\n"
     ]
    },
    {
     "name": "stderr",
     "output_type": "stream",
     "text": [
      "\n",
      "[notice] A new release of pip is available: 24.0 -> 25.0.1\n",
      "[notice] To update, run: C:\\Users\\adtda\\AppData\\Local\\Microsoft\\WindowsApps\\PythonSoftwareFoundation.Python.3.11_qbz5n2kfra8p0\\python.exe -m pip install --upgrade pip\n"
     ]
    },
    {
     "data": {
      "text/html": [
       "<style type=\"text/css\">\n",
       "#T_412a8_row0_col0, #T_412a8_row1_col1, #T_412a8_row2_col2, #T_412a8_row3_col3 {\n",
       "  background-color: #b40426;\n",
       "  color: #f1f1f1;\n",
       "}\n",
       "#T_412a8_row0_col1 {\n",
       "  background-color: #80a3fa;\n",
       "  color: #f1f1f1;\n",
       "}\n",
       "#T_412a8_row0_col2 {\n",
       "  background-color: #6485ec;\n",
       "  color: #f1f1f1;\n",
       "}\n",
       "#T_412a8_row0_col3 {\n",
       "  background-color: #86a9fc;\n",
       "  color: #f1f1f1;\n",
       "}\n",
       "#T_412a8_row1_col0 {\n",
       "  background-color: #3f53c6;\n",
       "  color: #f1f1f1;\n",
       "}\n",
       "#T_412a8_row1_col2, #T_412a8_row1_col3, #T_412a8_row2_col0, #T_412a8_row3_col1 {\n",
       "  background-color: #3b4cc0;\n",
       "  color: #f1f1f1;\n",
       "}\n",
       "#T_412a8_row2_col1 {\n",
       "  background-color: #506bda;\n",
       "  color: #f1f1f1;\n",
       "}\n",
       "#T_412a8_row2_col3 {\n",
       "  background-color: #7093f3;\n",
       "  color: #f1f1f1;\n",
       "}\n",
       "#T_412a8_row3_col0 {\n",
       "  background-color: #465ecf;\n",
       "  color: #f1f1f1;\n",
       "}\n",
       "#T_412a8_row3_col2 {\n",
       "  background-color: #5a78e4;\n",
       "  color: #f1f1f1;\n",
       "}\n",
       "</style>\n",
       "<table id=\"T_412a8\">\n",
       "  <thead>\n",
       "    <tr>\n",
       "      <th class=\"blank level0\" >&nbsp;</th>\n",
       "      <th id=\"T_412a8_level0_col0\" class=\"col_heading level0 col0\" >ID</th>\n",
       "      <th id=\"T_412a8_level0_col1\" class=\"col_heading level0 col1\" >Age</th>\n",
       "      <th id=\"T_412a8_level0_col2\" class=\"col_heading level0 col2\" >Work_Experience</th>\n",
       "      <th id=\"T_412a8_level0_col3\" class=\"col_heading level0 col3\" >Family_Size</th>\n",
       "    </tr>\n",
       "  </thead>\n",
       "  <tbody>\n",
       "    <tr>\n",
       "      <th id=\"T_412a8_level0_row0\" class=\"row_heading level0 row0\" >ID</th>\n",
       "      <td id=\"T_412a8_row0_col0\" class=\"data row0 col0\" >1.000000</td>\n",
       "      <td id=\"T_412a8_row0_col1\" class=\"data row0 col1\" >-0.009562</td>\n",
       "      <td id=\"T_412a8_row0_col2\" class=\"data row0 col2\" >-0.029351</td>\n",
       "      <td id=\"T_412a8_row0_col3\" class=\"data row0 col3\" >0.014095</td>\n",
       "    </tr>\n",
       "    <tr>\n",
       "      <th id=\"T_412a8_level0_row1\" class=\"row_heading level0 row1\" >Age</th>\n",
       "      <td id=\"T_412a8_row1_col0\" class=\"data row1 col0\" >-0.009562</td>\n",
       "      <td id=\"T_412a8_row1_col1\" class=\"data row1 col1\" >1.000000</td>\n",
       "      <td id=\"T_412a8_row1_col2\" class=\"data row1 col2\" >-0.189653</td>\n",
       "      <td id=\"T_412a8_row1_col3\" class=\"data row1 col3\" >-0.281725</td>\n",
       "    </tr>\n",
       "    <tr>\n",
       "      <th id=\"T_412a8_level0_row2\" class=\"row_heading level0 row2\" >Work_Experience</th>\n",
       "      <td id=\"T_412a8_row2_col0\" class=\"data row2 col0\" >-0.029351</td>\n",
       "      <td id=\"T_412a8_row2_col1\" class=\"data row2 col1\" >-0.189653</td>\n",
       "      <td id=\"T_412a8_row2_col2\" class=\"data row2 col2\" >1.000000</td>\n",
       "      <td id=\"T_412a8_row2_col3\" class=\"data row2 col3\" >-0.065163</td>\n",
       "    </tr>\n",
       "    <tr>\n",
       "      <th id=\"T_412a8_level0_row3\" class=\"row_heading level0 row3\" >Family_Size</th>\n",
       "      <td id=\"T_412a8_row3_col0\" class=\"data row3 col0\" >0.014095</td>\n",
       "      <td id=\"T_412a8_row3_col1\" class=\"data row3 col1\" >-0.281725</td>\n",
       "      <td id=\"T_412a8_row3_col2\" class=\"data row3 col2\" >-0.065163</td>\n",
       "      <td id=\"T_412a8_row3_col3\" class=\"data row3 col3\" >1.000000</td>\n",
       "    </tr>\n",
       "  </tbody>\n",
       "</table>\n"
      ],
      "text/plain": [
       "<pandas.io.formats.style.Styler at 0x1ec7ea50610>"
      ]
     },
     "execution_count": 39,
     "metadata": {},
     "output_type": "execute_result"
    }
   ],
   "source": [
    "%pip install jinja2\n",
    "customer_df.corr(numeric_only=True).style.background_gradient(cmap='coolwarm')"
   ]
  },
  {
   "cell_type": "code",
   "execution_count": 40,
   "metadata": {},
   "outputs": [
    {
     "data": {
      "text/plain": [
       "{'ID': 0.0,\n",
       " 'Gender': 0.0,\n",
       " 'Ever_Married': 1.78,\n",
       " 'Age': 0.0,\n",
       " 'Graduated': 0.95,\n",
       " 'Profession': 1.51,\n",
       " 'Work_Experience': 10.27,\n",
       " 'Spending_Score': 0.0,\n",
       " 'Family_Size': 4.19,\n",
       " 'Var_1': 1.01}"
      ]
     },
     "execution_count": 40,
     "metadata": {},
     "output_type": "execute_result"
    }
   ],
   "source": [
    "porcentaje_nulos(customer_df)"
   ]
  },
  {
   "cell_type": "code",
   "execution_count": 41,
   "metadata": {},
   "outputs": [
    {
     "data": {
      "text/html": [
       "<div>\n",
       "<style scoped>\n",
       "    .dataframe tbody tr th:only-of-type {\n",
       "        vertical-align: middle;\n",
       "    }\n",
       "\n",
       "    .dataframe tbody tr th {\n",
       "        vertical-align: top;\n",
       "    }\n",
       "\n",
       "    .dataframe thead th {\n",
       "        text-align: right;\n",
       "    }\n",
       "</style>\n",
       "<table border=\"1\" class=\"dataframe\">\n",
       "  <thead>\n",
       "    <tr style=\"text-align: right;\">\n",
       "      <th></th>\n",
       "      <th>ID</th>\n",
       "      <th>Gender</th>\n",
       "      <th>Ever_Married</th>\n",
       "      <th>Age</th>\n",
       "      <th>Graduated</th>\n",
       "      <th>Profession</th>\n",
       "      <th>Work_Experience</th>\n",
       "      <th>Spending_Score</th>\n",
       "      <th>Family_Size</th>\n",
       "      <th>Var_1</th>\n",
       "    </tr>\n",
       "  </thead>\n",
       "  <tbody>\n",
       "    <tr>\n",
       "      <th>2659</th>\n",
       "      <td>462454</td>\n",
       "      <td>Male</td>\n",
       "      <td>No</td>\n",
       "      <td>19</td>\n",
       "      <td>No</td>\n",
       "      <td>Healthcare</td>\n",
       "      <td>1.0</td>\n",
       "      <td>Low</td>\n",
       "      <td>3.0</td>\n",
       "      <td>Cat_2</td>\n",
       "    </tr>\n",
       "    <tr>\n",
       "      <th>2666</th>\n",
       "      <td>467442</td>\n",
       "      <td>Male</td>\n",
       "      <td>Yes</td>\n",
       "      <td>56</td>\n",
       "      <td>Yes</td>\n",
       "      <td>Artist</td>\n",
       "      <td>NaN</td>\n",
       "      <td>Average</td>\n",
       "      <td>2.0</td>\n",
       "      <td>Cat_6</td>\n",
       "    </tr>\n",
       "    <tr>\n",
       "      <th>2712</th>\n",
       "      <td>461671</td>\n",
       "      <td>Male</td>\n",
       "      <td>No</td>\n",
       "      <td>32</td>\n",
       "      <td>No</td>\n",
       "      <td>Healthcare</td>\n",
       "      <td>7.0</td>\n",
       "      <td>Low</td>\n",
       "      <td>5.0</td>\n",
       "      <td>Cat_6</td>\n",
       "    </tr>\n",
       "    <tr>\n",
       "      <th>2758</th>\n",
       "      <td>466746</td>\n",
       "      <td>Female</td>\n",
       "      <td>Yes</td>\n",
       "      <td>69</td>\n",
       "      <td>Yes</td>\n",
       "      <td>Lawyer</td>\n",
       "      <td>0.0</td>\n",
       "      <td>High</td>\n",
       "      <td>2.0</td>\n",
       "      <td>Cat_6</td>\n",
       "    </tr>\n",
       "    <tr>\n",
       "      <th>2820</th>\n",
       "      <td>467539</td>\n",
       "      <td>Male</td>\n",
       "      <td>Yes</td>\n",
       "      <td>48</td>\n",
       "      <td>Yes</td>\n",
       "      <td>Artist</td>\n",
       "      <td>NaN</td>\n",
       "      <td>Average</td>\n",
       "      <td>4.0</td>\n",
       "      <td>Cat_7</td>\n",
       "    </tr>\n",
       "    <tr>\n",
       "      <th>...</th>\n",
       "      <td>...</td>\n",
       "      <td>...</td>\n",
       "      <td>...</td>\n",
       "      <td>...</td>\n",
       "      <td>...</td>\n",
       "      <td>...</td>\n",
       "      <td>...</td>\n",
       "      <td>...</td>\n",
       "      <td>...</td>\n",
       "      <td>...</td>\n",
       "    </tr>\n",
       "    <tr>\n",
       "      <th>10492</th>\n",
       "      <td>467569</td>\n",
       "      <td>Male</td>\n",
       "      <td>No</td>\n",
       "      <td>19</td>\n",
       "      <td>No</td>\n",
       "      <td>Healthcare</td>\n",
       "      <td>NaN</td>\n",
       "      <td>Low</td>\n",
       "      <td>4.0</td>\n",
       "      <td>Cat_6</td>\n",
       "    </tr>\n",
       "    <tr>\n",
       "      <th>10514</th>\n",
       "      <td>463075</td>\n",
       "      <td>Male</td>\n",
       "      <td>Yes</td>\n",
       "      <td>52</td>\n",
       "      <td>Yes</td>\n",
       "      <td>Artist</td>\n",
       "      <td>0.0</td>\n",
       "      <td>Low</td>\n",
       "      <td>4.0</td>\n",
       "      <td>Cat_6</td>\n",
       "    </tr>\n",
       "    <tr>\n",
       "      <th>10645</th>\n",
       "      <td>460935</td>\n",
       "      <td>Male</td>\n",
       "      <td>Yes</td>\n",
       "      <td>87</td>\n",
       "      <td>Yes</td>\n",
       "      <td>Lawyer</td>\n",
       "      <td>0.0</td>\n",
       "      <td>Low</td>\n",
       "      <td>1.0</td>\n",
       "      <td>Cat_6</td>\n",
       "    </tr>\n",
       "    <tr>\n",
       "      <th>10650</th>\n",
       "      <td>464274</td>\n",
       "      <td>Female</td>\n",
       "      <td>Yes</td>\n",
       "      <td>56</td>\n",
       "      <td>Yes</td>\n",
       "      <td>Artist</td>\n",
       "      <td>1.0</td>\n",
       "      <td>Average</td>\n",
       "      <td>5.0</td>\n",
       "      <td>Cat_6</td>\n",
       "    </tr>\n",
       "    <tr>\n",
       "      <th>10663</th>\n",
       "      <td>461612</td>\n",
       "      <td>Female</td>\n",
       "      <td>No</td>\n",
       "      <td>31</td>\n",
       "      <td>Yes</td>\n",
       "      <td>Healthcare</td>\n",
       "      <td>8.0</td>\n",
       "      <td>Low</td>\n",
       "      <td>5.0</td>\n",
       "      <td>Cat_6</td>\n",
       "    </tr>\n",
       "  </tbody>\n",
       "</table>\n",
       "<p>136 rows × 10 columns</p>\n",
       "</div>"
      ],
      "text/plain": [
       "           ID  Gender Ever_Married  Age Graduated  Profession  \\\n",
       "2659   462454    Male           No   19        No  Healthcare   \n",
       "2666   467442    Male          Yes   56       Yes      Artist   \n",
       "2712   461671    Male           No   32        No  Healthcare   \n",
       "2758   466746  Female          Yes   69       Yes      Lawyer   \n",
       "2820   467539    Male          Yes   48       Yes      Artist   \n",
       "...       ...     ...          ...  ...       ...         ...   \n",
       "10492  467569    Male           No   19        No  Healthcare   \n",
       "10514  463075    Male          Yes   52       Yes      Artist   \n",
       "10645  460935    Male          Yes   87       Yes      Lawyer   \n",
       "10650  464274  Female          Yes   56       Yes      Artist   \n",
       "10663  461612  Female           No   31       Yes  Healthcare   \n",
       "\n",
       "       Work_Experience Spending_Score  Family_Size  Var_1  \n",
       "2659               1.0            Low          3.0  Cat_2  \n",
       "2666               NaN        Average          2.0  Cat_6  \n",
       "2712               7.0            Low          5.0  Cat_6  \n",
       "2758               0.0           High          2.0  Cat_6  \n",
       "2820               NaN        Average          4.0  Cat_7  \n",
       "...                ...            ...          ...    ...  \n",
       "10492              NaN            Low          4.0  Cat_6  \n",
       "10514              0.0            Low          4.0  Cat_6  \n",
       "10645              0.0            Low          1.0  Cat_6  \n",
       "10650              1.0        Average          5.0  Cat_6  \n",
       "10663              8.0            Low          5.0  Cat_6  \n",
       "\n",
       "[136 rows x 10 columns]"
      ]
     },
     "execution_count": 41,
     "metadata": {},
     "output_type": "execute_result"
    }
   ],
   "source": [
    "customer_df.loc[customer_df.duplicated()]"
   ]
  },
  {
   "cell_type": "code",
   "execution_count": 42,
   "metadata": {},
   "outputs": [],
   "source": [
    "customer_df.drop_duplicates(inplace=True)"
   ]
  },
  {
   "cell_type": "code",
   "execution_count": 43,
   "metadata": {},
   "outputs": [
    {
     "data": {
      "text/html": [
       "<div>\n",
       "<style scoped>\n",
       "    .dataframe tbody tr th:only-of-type {\n",
       "        vertical-align: middle;\n",
       "    }\n",
       "\n",
       "    .dataframe tbody tr th {\n",
       "        vertical-align: top;\n",
       "    }\n",
       "\n",
       "    .dataframe thead th {\n",
       "        text-align: right;\n",
       "    }\n",
       "</style>\n",
       "<table border=\"1\" class=\"dataframe\">\n",
       "  <thead>\n",
       "    <tr style=\"text-align: right;\">\n",
       "      <th></th>\n",
       "      <th>ID</th>\n",
       "      <th>Gender</th>\n",
       "      <th>Ever_Married</th>\n",
       "      <th>Age</th>\n",
       "      <th>Graduated</th>\n",
       "      <th>Profession</th>\n",
       "      <th>Work_Experience</th>\n",
       "      <th>Spending_Score</th>\n",
       "      <th>Family_Size</th>\n",
       "      <th>Var_1</th>\n",
       "    </tr>\n",
       "  </thead>\n",
       "  <tbody>\n",
       "  </tbody>\n",
       "</table>\n",
       "</div>"
      ],
      "text/plain": [
       "Empty DataFrame\n",
       "Columns: [ID, Gender, Ever_Married, Age, Graduated, Profession, Work_Experience, Spending_Score, Family_Size, Var_1]\n",
       "Index: []"
      ]
     },
     "execution_count": 43,
     "metadata": {},
     "output_type": "execute_result"
    }
   ],
   "source": [
    "customer_df.loc[customer_df.duplicated()]"
   ]
  },
  {
   "cell_type": "code",
   "execution_count": 44,
   "metadata": {},
   "outputs": [
    {
     "data": {
      "text/plain": [
       "(10559, 10)"
      ]
     },
     "execution_count": 44,
     "metadata": {},
     "output_type": "execute_result"
    }
   ],
   "source": [
    "customer_df.shape"
   ]
  },
  {
   "cell_type": "code",
   "execution_count": 45,
   "metadata": {},
   "outputs": [
    {
     "data": {
      "text/plain": [
       "{'ID': 0.0,\n",
       " 'Gender': 0.0,\n",
       " 'Ever_Married': 1.75,\n",
       " 'Age': 0.0,\n",
       " 'Graduated': 0.94,\n",
       " 'Profession': 1.52,\n",
       " 'Work_Experience': 10.11,\n",
       " 'Spending_Score': 0.0,\n",
       " 'Family_Size': 4.19,\n",
       " 'Var_1': 0.99}"
      ]
     },
     "execution_count": 45,
     "metadata": {},
     "output_type": "execute_result"
    }
   ],
   "source": [
    "porcentaje_nulos(customer_df)"
   ]
  },
  {
   "cell_type": "code",
   "execution_count": 46,
   "metadata": {},
   "outputs": [],
   "source": [
    "customer_df = customer_df.replace('Select', np.nan)"
   ]
  },
  {
   "cell_type": "code",
   "execution_count": 47,
   "metadata": {},
   "outputs": [
    {
     "data": {
      "text/plain": [
       "{'ID': 0.0,\n",
       " 'Gender': 0.0,\n",
       " 'Ever_Married': 1.75,\n",
       " 'Age': 0.0,\n",
       " 'Graduated': 0.94,\n",
       " 'Profession': 1.52,\n",
       " 'Work_Experience': 10.11,\n",
       " 'Spending_Score': 0.0,\n",
       " 'Family_Size': 4.19,\n",
       " 'Var_1': 0.99}"
      ]
     },
     "execution_count": 47,
     "metadata": {},
     "output_type": "execute_result"
    }
   ],
   "source": [
    "porcentaje_nulos(customer_df)"
   ]
  },
  {
   "cell_type": "code",
   "execution_count": 48,
   "metadata": {},
   "outputs": [
    {
     "data": {
      "text/plain": [
       "Work_Experience\n",
       "1.0     0.325572\n",
       "0.0     0.320936\n",
       "8.0     0.063955\n",
       "9.0     0.063850\n",
       "2.0     0.039300\n",
       "4.0     0.036140\n",
       "3.0     0.034875\n",
       "5.0     0.028132\n",
       "6.0     0.027816\n",
       "7.0     0.026762\n",
       "14.0    0.006849\n",
       "11.0    0.006743\n",
       "10.0    0.006743\n",
       "12.0    0.006322\n",
       "13.0    0.006006\n",
       "Name: proportion, dtype: float64"
      ]
     },
     "execution_count": 48,
     "metadata": {},
     "output_type": "execute_result"
    }
   ],
   "source": [
    "customer_df['Work_Experience'].value_counts(normalize=True) #Lo dejo ya que esta bien distribuido y pede aportar datos importantes"
   ]
  },
  {
   "cell_type": "code",
   "execution_count": 49,
   "metadata": {},
   "outputs": [
    {
     "data": {
      "text/plain": [
       "Ever_Married\n",
       "Yes    0.587527\n",
       "No     0.412473\n",
       "Name: proportion, dtype: float64"
      ]
     },
     "execution_count": 49,
     "metadata": {},
     "output_type": "execute_result"
    }
   ],
   "source": [
    "customer_df['Ever_Married'].value_counts(normalize=True) #Lo dejo ya que esta bien distribuido y pede aportar datos importantes"
   ]
  },
  {
   "cell_type": "code",
   "execution_count": 50,
   "metadata": {},
   "outputs": [
    {
     "data": {
      "text/plain": [
       "Graduated\n",
       "Yes    0.62065\n",
       "No     0.37935\n",
       "Name: proportion, dtype: float64"
      ]
     },
     "execution_count": 50,
     "metadata": {},
     "output_type": "execute_result"
    }
   ],
   "source": [
    "customer_df['Graduated'].value_counts(normalize=True) #Lo dejo ya que esta bien distribuido y pede aportar datos importantes"
   ]
  },
  {
   "cell_type": "code",
   "execution_count": 51,
   "metadata": {},
   "outputs": [
    {
     "data": {
      "text/plain": [
       "Profession\n",
       "Artist           0.315223\n",
       "Healthcare       0.165977\n",
       "Entertainment    0.118665\n",
       "Engineer         0.088951\n",
       "Doctor           0.088470\n",
       "Lawyer           0.080008\n",
       "Executive        0.074046\n",
       "Marketing        0.037696\n",
       "Homemaker        0.030965\n",
       "Name: proportion, dtype: float64"
      ]
     },
     "execution_count": 51,
     "metadata": {},
     "output_type": "execute_result"
    }
   ],
   "source": [
    "customer_df['Profession'].value_counts(normalize=True) #Lo dejo ya que esta bien distribuido y pede aportar datos importantes"
   ]
  },
  {
   "cell_type": "code",
   "execution_count": 52,
   "metadata": {},
   "outputs": [
    {
     "data": {
      "text/plain": [
       "Family_Size\n",
       "2.0    0.308590\n",
       "1.0    0.191460\n",
       "3.0    0.190175\n",
       "4.0    0.178017\n",
       "5.0    0.078976\n",
       "6.0    0.028467\n",
       "7.0    0.011960\n",
       "8.0    0.006425\n",
       "9.0    0.005931\n",
       "Name: proportion, dtype: float64"
      ]
     },
     "execution_count": 52,
     "metadata": {},
     "output_type": "execute_result"
    }
   ],
   "source": [
    "customer_df['Family_Size'].value_counts(normalize=True) #Lo dejo ya que esta bien distribuido y pede aportar datos importantes"
   ]
  },
  {
   "cell_type": "code",
   "execution_count": 53,
   "metadata": {},
   "outputs": [
    {
     "data": {
      "text/plain": [
       "Graduated\n",
       "Yes    0.62065\n",
       "No     0.37935\n",
       "Name: proportion, dtype: float64"
      ]
     },
     "execution_count": 53,
     "metadata": {},
     "output_type": "execute_result"
    }
   ],
   "source": [
    "customer_df['Graduated'].value_counts(normalize=True)"
   ]
  },
  {
   "cell_type": "code",
   "execution_count": 54,
   "metadata": {},
   "outputs": [
    {
     "data": {
      "text/plain": [
       "Var_1\n",
       "Cat_6    0.653530\n",
       "Cat_4    0.138894\n",
       "Cat_3    0.102544\n",
       "Cat_2    0.053281\n",
       "Cat_7    0.025062\n",
       "Cat_1    0.015783\n",
       "Cat_5    0.010905\n",
       "Name: proportion, dtype: float64"
      ]
     },
     "execution_count": 54,
     "metadata": {},
     "output_type": "execute_result"
    }
   ],
   "source": [
    "customer_df['Var_1'].value_counts(normalize=True)"
   ]
  },
  {
   "cell_type": "code",
   "execution_count": 55,
   "metadata": {},
   "outputs": [],
   "source": [
    "# Rellenar los valores nulos en la columna 'Ever_Married' con la moda\n",
    "customer_df['Ever_Married'].fillna(customer_df['Ever_Married'].mode()[0], inplace=True)\n",
    "# Rellenar los valores nulos en la columna 'Var_1' con la moda\n",
    "customer_df['Var_1'].fillna(customer_df['Var_1'].mode()[0], inplace=True)\n",
    "# Rellenar los valores nulos en la columna 'Work_Experience' con la mediana\n",
    "customer_df['Work_Experience'].fillna(customer_df['Work_Experience'].median(), inplace=True)\n",
    "# Rellenar los valores nulos en la columna 'Profession' con la moda\n",
    "customer_df['Profession'].fillna(customer_df['Profession'].mode()[0], inplace=True)\n",
    "# Rellenar los valores nulos en la columna 'Graduated' con la moda\n",
    "customer_df['Graduated'].fillna(customer_df['Graduated'].mode()[0], inplace=True)\n",
    "# Rellenar los valores nulos en la columna 'Family_Size' con la mediana\n",
    "customer_df['Family_Size'].fillna(customer_df['Family_Size'].median(), inplace=True)"
   ]
  },
  {
   "cell_type": "code",
   "execution_count": 56,
   "metadata": {},
   "outputs": [],
   "source": [
    "customer_df = customer_df.replace('Select', np.nan)"
   ]
  },
  {
   "cell_type": "code",
   "execution_count": 57,
   "metadata": {},
   "outputs": [
    {
     "data": {
      "text/plain": [
       "{'ID': 0.0,\n",
       " 'Gender': 0.0,\n",
       " 'Ever_Married': 0.0,\n",
       " 'Age': 0.0,\n",
       " 'Graduated': 0.0,\n",
       " 'Profession': 0.0,\n",
       " 'Work_Experience': 0.0,\n",
       " 'Spending_Score': 0.0,\n",
       " 'Family_Size': 0.0,\n",
       " 'Var_1': 0.0}"
      ]
     },
     "execution_count": 57,
     "metadata": {},
     "output_type": "execute_result"
    }
   ],
   "source": [
    "porcentaje_nulos(customer_df)"
   ]
  },
  {
   "cell_type": "code",
   "execution_count": 58,
   "metadata": {},
   "outputs": [
    {
     "data": {
      "text/plain": [
       "0"
      ]
     },
     "execution_count": 58,
     "metadata": {},
     "output_type": "execute_result"
    }
   ],
   "source": [
    "customer_df.duplicated().sum()"
   ]
  },
  {
   "cell_type": "code",
   "execution_count": 59,
   "metadata": {},
   "outputs": [
    {
     "data": {
      "text/plain": [
       "ID                 8363\n",
       "Gender                2\n",
       "Ever_Married          2\n",
       "Age                  67\n",
       "Graduated             2\n",
       "Profession            9\n",
       "Work_Experience      15\n",
       "Spending_Score        3\n",
       "Family_Size           9\n",
       "Var_1                 7\n",
       "dtype: int64"
      ]
     },
     "execution_count": 59,
     "metadata": {},
     "output_type": "execute_result"
    }
   ],
   "source": [
    "customer_df.nunique()"
   ]
  },
  {
   "cell_type": "code",
   "execution_count": 60,
   "metadata": {},
   "outputs": [
    {
     "name": "stdout",
     "output_type": "stream",
     "text": [
      "Visualizando distribuciones numéricas...\n"
     ]
    },
    {
     "data": {
      "image/png": "[encoded data removed]",
      "text/plain": [
       "<Figure size 800x400 with 1 Axes>"
      ]
     },
     "metadata": {},
     "output_type": "display_data"
    },
    {
     "data": {
      "image/png": "[encoded data removed]",
      "text/plain": [
       "<Figure size 800x400 with 1 Axes>"
      ]
     },
     "metadata": {},
     "output_type": "display_data"
    },
    {
     "data": {
      "image/png": "[encoded data removed]",
      "text/plain": [
       "<Figure size 800x400 with 1 Axes>"
      ]
     },
     "metadata": {},
     "output_type": "display_data"
    }
   ],
   "source": [
    "customer_df = customer_df.drop(columns=['ID'], axis=1)\n",
    "numeric_cols = customer_df.select_dtypes(include=np.number).columns.tolist()\n",
    "print(\"Visualizando distribuciones numéricas...\")\n",
    "for col in numeric_cols:\n",
    "    plt.figure(figsize=(8, 4))\n",
    "    sns.histplot(customer_df[col], kde=True)\n",
    "    plt.title(f'Distribución de {col}')\n",
    "    plt.show()\n"
   ]
  },
  {
   "cell_type": "code",
   "execution_count": 61,
   "metadata": {},
   "outputs": [],
   "source": [
    "categorical_cols = customer_df.select_dtypes(include='object').columns.tolist()\n",
    "# Asegúrate de que Var_1 se trate como categórica si lo es\n",
    "if 'Var_1' in customer_df.columns and customer_df['Var_1'].dtype != 'object':\n",
    "     customer_df['Var_1'] = customer_df['Var_1'].astype('category') # O 'object'\n",
    "     if 'Var_1' not in categorical_cols:\n",
    "          categorical_cols.append('Var_1')"
   ]
  },
  {
   "cell_type": "code",
   "execution_count": 62,
   "metadata": {},
   "outputs": [
    {
     "name": "stdout",
     "output_type": "stream",
     "text": [
      "\n",
      "Visualizando distribuciones categóricas...\n"
     ]
    },
    {
     "data": {
      "image/png": "[encoded data removed]",
      "text/plain": [
       "<Figure size 1000x500 with 1 Axes>"
      ]
     },
     "metadata": {},
     "output_type": "display_data"
    },
    {
     "data": {
      "image/png": "[encoded data removed]",
      "text/plain": [
       "<Figure size 1000x500 with 1 Axes>"
      ]
     },
     "metadata": {},
     "output_type": "display_data"
    },
    {
     "data": {
      "image/png": "[encoded data removed]",
      "text/plain": [
       "<Figure size 1000x500 with 1 Axes>"
      ]
     },
     "metadata": {},
     "output_type": "display_data"
    },
    {
     "data": {
      "image/png": "[encoded data removed]",
      "text/plain": [
       "<Figure size 1000x500 with 1 Axes>"
      ]
     },
     "metadata": {},
     "output_type": "display_data"
    },
    {
     "data": {
      "image/png": "[encoded data removed]",
      "text/plain": [
       "<Figure size 1000x500 with 1 Axes>"
      ]
     },
     "metadata": {},
     "output_type": "display_data"
    },
    {
     "data": {
      "image/png": "[encoded data removed]",
      "text/plain": [
       "<Figure size 1000x500 with 1 Axes>"
      ]
     },
     "metadata": {},
     "output_type": "display_data"
    }
   ],
   "source": [
    "print(\"\\nVisualizando distribuciones categóricas...\")\n",
    "for col in categorical_cols:\n",
    "    plt.figure(figsize=(10, 5))\n",
    "    # Ordenar por frecuencia puede ser útil\n",
    "    order = customer_df[col].value_counts().index \n",
    "    sns.countplot(data=customer_df, y=col, order=order) # Usar 'y' para mejor legibilidad con muchas categorías\n",
    "    plt.title(f'Distribución de {col}')\n",
    "    plt.xlabel('Frecuencia')\n",
    "    plt.ylabel(col)\n",
    "    plt.show()"
   ]
  },
  {
   "cell_type": "code",
   "execution_count": 63,
   "metadata": {},
   "outputs": [
    {
     "data": {
      "text/html": [
       "<div>\n",
       "<style scoped>\n",
       "    .dataframe tbody tr th:only-of-type {\n",
       "        vertical-align: middle;\n",
       "    }\n",
       "\n",
       "    .dataframe tbody tr th {\n",
       "        vertical-align: top;\n",
       "    }\n",
       "\n",
       "    .dataframe thead th {\n",
       "        text-align: right;\n",
       "    }\n",
       "</style>\n",
       "<table border=\"1\" class=\"dataframe\">\n",
       "  <thead>\n",
       "    <tr style=\"text-align: right;\">\n",
       "      <th></th>\n",
       "      <th>Gender</th>\n",
       "      <th>Ever_Married</th>\n",
       "      <th>Age</th>\n",
       "      <th>Graduated</th>\n",
       "      <th>Profession</th>\n",
       "      <th>Work_Experience</th>\n",
       "      <th>Spending_Score</th>\n",
       "      <th>Family_Size</th>\n",
       "      <th>Var_1</th>\n",
       "    </tr>\n",
       "  </thead>\n",
       "  <tbody>\n",
       "    <tr>\n",
       "      <th>0</th>\n",
       "      <td>Female</td>\n",
       "      <td>Yes</td>\n",
       "      <td>36</td>\n",
       "      <td>Yes</td>\n",
       "      <td>Engineer</td>\n",
       "      <td>0.0</td>\n",
       "      <td>Low</td>\n",
       "      <td>1.0</td>\n",
       "      <td>Cat_6</td>\n",
       "    </tr>\n",
       "    <tr>\n",
       "      <th>1</th>\n",
       "      <td>Male</td>\n",
       "      <td>Yes</td>\n",
       "      <td>37</td>\n",
       "      <td>Yes</td>\n",
       "      <td>Healthcare</td>\n",
       "      <td>8.0</td>\n",
       "      <td>Average</td>\n",
       "      <td>4.0</td>\n",
       "      <td>Cat_6</td>\n",
       "    </tr>\n",
       "    <tr>\n",
       "      <th>2</th>\n",
       "      <td>Female</td>\n",
       "      <td>Yes</td>\n",
       "      <td>69</td>\n",
       "      <td>No</td>\n",
       "      <td>Artist</td>\n",
       "      <td>0.0</td>\n",
       "      <td>Low</td>\n",
       "      <td>1.0</td>\n",
       "      <td>Cat_6</td>\n",
       "    </tr>\n",
       "    <tr>\n",
       "      <th>3</th>\n",
       "      <td>Male</td>\n",
       "      <td>Yes</td>\n",
       "      <td>59</td>\n",
       "      <td>No</td>\n",
       "      <td>Executive</td>\n",
       "      <td>11.0</td>\n",
       "      <td>High</td>\n",
       "      <td>2.0</td>\n",
       "      <td>Cat_6</td>\n",
       "    </tr>\n",
       "    <tr>\n",
       "      <th>4</th>\n",
       "      <td>Female</td>\n",
       "      <td>No</td>\n",
       "      <td>19</td>\n",
       "      <td>No</td>\n",
       "      <td>Marketing</td>\n",
       "      <td>1.0</td>\n",
       "      <td>Low</td>\n",
       "      <td>4.0</td>\n",
       "      <td>Cat_6</td>\n",
       "    </tr>\n",
       "  </tbody>\n",
       "</table>\n",
       "</div>"
      ],
      "text/plain": [
       "   Gender Ever_Married  Age Graduated  Profession  Work_Experience  \\\n",
       "0  Female          Yes   36       Yes    Engineer              0.0   \n",
       "1    Male          Yes   37       Yes  Healthcare              8.0   \n",
       "2  Female          Yes   69        No      Artist              0.0   \n",
       "3    Male          Yes   59        No   Executive             11.0   \n",
       "4  Female           No   19        No   Marketing              1.0   \n",
       "\n",
       "  Spending_Score  Family_Size  Var_1  \n",
       "0            Low          1.0  Cat_6  \n",
       "1        Average          4.0  Cat_6  \n",
       "2            Low          1.0  Cat_6  \n",
       "3           High          2.0  Cat_6  \n",
       "4            Low          4.0  Cat_6  "
      ]
     },
     "execution_count": 63,
     "metadata": {},
     "output_type": "execute_result"
    }
   ],
   "source": [
    "customer_df.head()"
   ]
  },
  {
   "cell_type": "code",
   "execution_count": 64,
   "metadata": {},
   "outputs": [
    {
     "data": {
      "text/plain": [
       "Index(['Gender', 'Ever_Married', 'Age', 'Graduated', 'Profession',\n",
       "       'Work_Experience', 'Spending_Score', 'Family_Size', 'Var_1'],\n",
       "      dtype='object')"
      ]
     },
     "execution_count": 64,
     "metadata": {},
     "output_type": "execute_result"
    }
   ],
   "source": [
    "customer_df.columns"
   ]
  },
  {
   "cell_type": "code",
   "execution_count": 65,
   "metadata": {},
   "outputs": [],
   "source": [
    "varlist =  ['Gender']\n",
    "\n",
    "def binary_map(x):\n",
    "    return x.map({'Male': 1, \"Female\": 0})\n",
    "\n",
    "# aplicamos el mapeo\n",
    "customer_df[varlist] = customer_df[varlist].apply(binary_map)"
   ]
  },
  {
   "cell_type": "code",
   "execution_count": 66,
   "metadata": {},
   "outputs": [],
   "source": [
    "varlist =  ['Ever_Married', 'Graduated']\n",
    "\n",
    "def binary_map(x):\n",
    "    return x.map({'Yes': 1, \"No\": 0})\n",
    "\n",
    "# aplicamos el mapeo\n",
    "customer_df[varlist] = customer_df[varlist].apply(binary_map)"
   ]
  },
  {
   "cell_type": "code",
   "execution_count": 67,
   "metadata": {},
   "outputs": [],
   "source": [
    "varlist =  ['Spending_Score']\n",
    "\n",
    "def binary_map(x):\n",
    "    return x.map({'Low': 0, \"Average\": 1, \"High\": 2})\n",
    "\n",
    "# aplicamos el mapeo\n",
    "customer_df[varlist] = customer_df[varlist].apply(binary_map)"
   ]
  },
  {
   "cell_type": "code",
   "execution_count": 68,
   "metadata": {},
   "outputs": [],
   "source": [
    "varlist =  ['Var_1']\n",
    "\n",
    "def binary_map(x):\n",
    "    return x.map({'Cat_1': 0, \"Cat_2\": 1, \"Cat_3\": 2, \"Cat_4\": 3, \"Cat_5\": 4, \"Cat_6\": 5, \"Cat_7\": 6})\n",
    "\n",
    "# aplicamos el mapeo\n",
    "customer_df[varlist] = customer_df[varlist].apply(binary_map)"
   ]
  },
  {
   "cell_type": "code",
   "execution_count": 69,
   "metadata": {},
   "outputs": [
    {
     "data": {
      "text/html": [
       "<div>\n",
       "<style scoped>\n",
       "    .dataframe tbody tr th:only-of-type {\n",
       "        vertical-align: middle;\n",
       "    }\n",
       "\n",
       "    .dataframe tbody tr th {\n",
       "        vertical-align: top;\n",
       "    }\n",
       "\n",
       "    .dataframe thead th {\n",
       "        text-align: right;\n",
       "    }\n",
       "</style>\n",
       "<table border=\"1\" class=\"dataframe\">\n",
       "  <thead>\n",
       "    <tr style=\"text-align: right;\">\n",
       "      <th></th>\n",
       "      <th>Gender</th>\n",
       "      <th>Ever_Married</th>\n",
       "      <th>Age</th>\n",
       "      <th>Graduated</th>\n",
       "      <th>Profession</th>\n",
       "      <th>Work_Experience</th>\n",
       "      <th>Spending_Score</th>\n",
       "      <th>Family_Size</th>\n",
       "      <th>Var_1</th>\n",
       "    </tr>\n",
       "  </thead>\n",
       "  <tbody>\n",
       "    <tr>\n",
       "      <th>0</th>\n",
       "      <td>0</td>\n",
       "      <td>1</td>\n",
       "      <td>36</td>\n",
       "      <td>1</td>\n",
       "      <td>Engineer</td>\n",
       "      <td>0.0</td>\n",
       "      <td>0</td>\n",
       "      <td>1.0</td>\n",
       "      <td>5</td>\n",
       "    </tr>\n",
       "    <tr>\n",
       "      <th>1</th>\n",
       "      <td>1</td>\n",
       "      <td>1</td>\n",
       "      <td>37</td>\n",
       "      <td>1</td>\n",
       "      <td>Healthcare</td>\n",
       "      <td>8.0</td>\n",
       "      <td>1</td>\n",
       "      <td>4.0</td>\n",
       "      <td>5</td>\n",
       "    </tr>\n",
       "    <tr>\n",
       "      <th>2</th>\n",
       "      <td>0</td>\n",
       "      <td>1</td>\n",
       "      <td>69</td>\n",
       "      <td>0</td>\n",
       "      <td>Artist</td>\n",
       "      <td>0.0</td>\n",
       "      <td>0</td>\n",
       "      <td>1.0</td>\n",
       "      <td>5</td>\n",
       "    </tr>\n",
       "    <tr>\n",
       "      <th>3</th>\n",
       "      <td>1</td>\n",
       "      <td>1</td>\n",
       "      <td>59</td>\n",
       "      <td>0</td>\n",
       "      <td>Executive</td>\n",
       "      <td>11.0</td>\n",
       "      <td>2</td>\n",
       "      <td>2.0</td>\n",
       "      <td>5</td>\n",
       "    </tr>\n",
       "    <tr>\n",
       "      <th>4</th>\n",
       "      <td>0</td>\n",
       "      <td>0</td>\n",
       "      <td>19</td>\n",
       "      <td>0</td>\n",
       "      <td>Marketing</td>\n",
       "      <td>1.0</td>\n",
       "      <td>0</td>\n",
       "      <td>4.0</td>\n",
       "      <td>5</td>\n",
       "    </tr>\n",
       "  </tbody>\n",
       "</table>\n",
       "</div>"
      ],
      "text/plain": [
       "   Gender  Ever_Married  Age  Graduated  Profession  Work_Experience  \\\n",
       "0       0             1   36          1    Engineer              0.0   \n",
       "1       1             1   37          1  Healthcare              8.0   \n",
       "2       0             1   69          0      Artist              0.0   \n",
       "3       1             1   59          0   Executive             11.0   \n",
       "4       0             0   19          0   Marketing              1.0   \n",
       "\n",
       "   Spending_Score  Family_Size  Var_1  \n",
       "0               0          1.0      5  \n",
       "1               1          4.0      5  \n",
       "2               0          1.0      5  \n",
       "3               2          2.0      5  \n",
       "4               0          4.0      5  "
      ]
     },
     "execution_count": 69,
     "metadata": {},
     "output_type": "execute_result"
    }
   ],
   "source": [
    "customer_df.head()"
   ]
  },
  {
   "cell_type": "code",
   "execution_count": 70,
   "metadata": {},
   "outputs": [
    {
     "data": {
      "text/plain": [
       "Profession\n",
       "Artist           0.325599\n",
       "Healthcare       0.163462\n",
       "Entertainment    0.116867\n",
       "Engineer         0.087603\n",
       "Doctor           0.087129\n",
       "Lawyer           0.078795\n",
       "Executive        0.072924\n",
       "Marketing        0.037125\n",
       "Homemaker        0.030495\n",
       "Name: proportion, dtype: float64"
      ]
     },
     "execution_count": 70,
     "metadata": {},
     "output_type": "execute_result"
    }
   ],
   "source": [
    "customer_df['Profession'].value_counts(normalize=True)"
   ]
  },
  {
   "cell_type": "code",
   "execution_count": 71,
   "metadata": {},
   "outputs": [],
   "source": [
    "varlist =  ['Profession']\n",
    "\n",
    "def binary_map(x):\n",
    "    return x.map({'Artist': 0, \"Healthcare\": 1, \"Entertainment\": 2, \"Engineer\": 3, \"Doctor\": 4, \"Lawyer\": 5, \"Executive\": 6, \"Marketing\": 7, \"Homemaker\": 8})\n",
    "\n",
    "# aplicamos el mapeo\n",
    "customer_df[varlist] = customer_df[varlist].apply(binary_map)"
   ]
  },
  {
   "cell_type": "code",
   "execution_count": 72,
   "metadata": {},
   "outputs": [
    {
     "data": {
      "text/html": [
       "<div>\n",
       "<style scoped>\n",
       "    .dataframe tbody tr th:only-of-type {\n",
       "        vertical-align: middle;\n",
       "    }\n",
       "\n",
       "    .dataframe tbody tr th {\n",
       "        vertical-align: top;\n",
       "    }\n",
       "\n",
       "    .dataframe thead th {\n",
       "        text-align: right;\n",
       "    }\n",
       "</style>\n",
       "<table border=\"1\" class=\"dataframe\">\n",
       "  <thead>\n",
       "    <tr style=\"text-align: right;\">\n",
       "      <th></th>\n",
       "      <th>Gender</th>\n",
       "      <th>Ever_Married</th>\n",
       "      <th>Age</th>\n",
       "      <th>Graduated</th>\n",
       "      <th>Profession</th>\n",
       "      <th>Work_Experience</th>\n",
       "      <th>Spending_Score</th>\n",
       "      <th>Family_Size</th>\n",
       "      <th>Var_1</th>\n",
       "    </tr>\n",
       "  </thead>\n",
       "  <tbody>\n",
       "    <tr>\n",
       "      <th>0</th>\n",
       "      <td>0</td>\n",
       "      <td>1</td>\n",
       "      <td>36</td>\n",
       "      <td>1</td>\n",
       "      <td>3</td>\n",
       "      <td>0.0</td>\n",
       "      <td>0</td>\n",
       "      <td>1.0</td>\n",
       "      <td>5</td>\n",
       "    </tr>\n",
       "    <tr>\n",
       "      <th>1</th>\n",
       "      <td>1</td>\n",
       "      <td>1</td>\n",
       "      <td>37</td>\n",
       "      <td>1</td>\n",
       "      <td>1</td>\n",
       "      <td>8.0</td>\n",
       "      <td>1</td>\n",
       "      <td>4.0</td>\n",
       "      <td>5</td>\n",
       "    </tr>\n",
       "    <tr>\n",
       "      <th>2</th>\n",
       "      <td>0</td>\n",
       "      <td>1</td>\n",
       "      <td>69</td>\n",
       "      <td>0</td>\n",
       "      <td>0</td>\n",
       "      <td>0.0</td>\n",
       "      <td>0</td>\n",
       "      <td>1.0</td>\n",
       "      <td>5</td>\n",
       "    </tr>\n",
       "    <tr>\n",
       "      <th>3</th>\n",
       "      <td>1</td>\n",
       "      <td>1</td>\n",
       "      <td>59</td>\n",
       "      <td>0</td>\n",
       "      <td>6</td>\n",
       "      <td>11.0</td>\n",
       "      <td>2</td>\n",
       "      <td>2.0</td>\n",
       "      <td>5</td>\n",
       "    </tr>\n",
       "    <tr>\n",
       "      <th>4</th>\n",
       "      <td>0</td>\n",
       "      <td>0</td>\n",
       "      <td>19</td>\n",
       "      <td>0</td>\n",
       "      <td>7</td>\n",
       "      <td>1.0</td>\n",
       "      <td>0</td>\n",
       "      <td>4.0</td>\n",
       "      <td>5</td>\n",
       "    </tr>\n",
       "  </tbody>\n",
       "</table>\n",
       "</div>"
      ],
      "text/plain": [
       "   Gender  Ever_Married  Age  Graduated  Profession  Work_Experience  \\\n",
       "0       0             1   36          1           3              0.0   \n",
       "1       1             1   37          1           1              8.0   \n",
       "2       0             1   69          0           0              0.0   \n",
       "3       1             1   59          0           6             11.0   \n",
       "4       0             0   19          0           7              1.0   \n",
       "\n",
       "   Spending_Score  Family_Size  Var_1  \n",
       "0               0          1.0      5  \n",
       "1               1          4.0      5  \n",
       "2               0          1.0      5  \n",
       "3               2          2.0      5  \n",
       "4               0          4.0      5  "
      ]
     },
     "execution_count": 72,
     "metadata": {},
     "output_type": "execute_result"
    }
   ],
   "source": [
    "customer_df.head()"
   ]
  },
  {
   "cell_type": "code",
   "execution_count": 73,
   "metadata": {},
   "outputs": [
    {
     "data": {
      "text/plain": [
       "(10559, 9)"
      ]
     },
     "execution_count": 73,
     "metadata": {},
     "output_type": "execute_result"
    }
   ],
   "source": [
    "customer_df.shape"
   ]
  },
  {
   "cell_type": "code",
   "execution_count": 81,
   "metadata": {},
   "outputs": [],
   "source": [
    "from sklearn.model_selection import train_test_split\n",
    "\n",
    "customer_df = customer_df.dropna()\n",
    "x = customer_df"
   ]
  },
  {
   "cell_type": "code",
   "execution_count": 82,
   "metadata": {},
   "outputs": [
    {
     "data": {
      "text/html": [
       "<div>\n",
       "<style scoped>\n",
       "    .dataframe tbody tr th:only-of-type {\n",
       "        vertical-align: middle;\n",
       "    }\n",
       "\n",
       "    .dataframe tbody tr th {\n",
       "        vertical-align: top;\n",
       "    }\n",
       "\n",
       "    .dataframe thead th {\n",
       "        text-align: right;\n",
       "    }\n",
       "</style>\n",
       "<table border=\"1\" class=\"dataframe\">\n",
       "  <thead>\n",
       "    <tr style=\"text-align: right;\">\n",
       "      <th></th>\n",
       "      <th>Gender</th>\n",
       "      <th>Ever_Married</th>\n",
       "      <th>Age</th>\n",
       "      <th>Graduated</th>\n",
       "      <th>Profession</th>\n",
       "      <th>Work_Experience</th>\n",
       "      <th>Spending_Score</th>\n",
       "      <th>Family_Size</th>\n",
       "      <th>Var_1</th>\n",
       "    </tr>\n",
       "  </thead>\n",
       "  <tbody>\n",
       "    <tr>\n",
       "      <th>0</th>\n",
       "      <td>0.0</td>\n",
       "      <td>1.0</td>\n",
       "      <td>0.253521</td>\n",
       "      <td>1.0</td>\n",
       "      <td>0.375</td>\n",
       "      <td>0.000000</td>\n",
       "      <td>0.0</td>\n",
       "      <td>0.000</td>\n",
       "      <td>0.833333</td>\n",
       "    </tr>\n",
       "    <tr>\n",
       "      <th>1</th>\n",
       "      <td>1.0</td>\n",
       "      <td>1.0</td>\n",
       "      <td>0.267606</td>\n",
       "      <td>1.0</td>\n",
       "      <td>0.125</td>\n",
       "      <td>0.571429</td>\n",
       "      <td>0.5</td>\n",
       "      <td>0.375</td>\n",
       "      <td>0.833333</td>\n",
       "    </tr>\n",
       "    <tr>\n",
       "      <th>2</th>\n",
       "      <td>0.0</td>\n",
       "      <td>1.0</td>\n",
       "      <td>0.718310</td>\n",
       "      <td>0.0</td>\n",
       "      <td>0.000</td>\n",
       "      <td>0.000000</td>\n",
       "      <td>0.0</td>\n",
       "      <td>0.000</td>\n",
       "      <td>0.833333</td>\n",
       "    </tr>\n",
       "    <tr>\n",
       "      <th>3</th>\n",
       "      <td>1.0</td>\n",
       "      <td>1.0</td>\n",
       "      <td>0.577465</td>\n",
       "      <td>0.0</td>\n",
       "      <td>0.750</td>\n",
       "      <td>0.785714</td>\n",
       "      <td>1.0</td>\n",
       "      <td>0.125</td>\n",
       "      <td>0.833333</td>\n",
       "    </tr>\n",
       "    <tr>\n",
       "      <th>4</th>\n",
       "      <td>0.0</td>\n",
       "      <td>0.0</td>\n",
       "      <td>0.014085</td>\n",
       "      <td>0.0</td>\n",
       "      <td>0.875</td>\n",
       "      <td>0.071429</td>\n",
       "      <td>0.0</td>\n",
       "      <td>0.375</td>\n",
       "      <td>0.833333</td>\n",
       "    </tr>\n",
       "  </tbody>\n",
       "</table>\n",
       "</div>"
      ],
      "text/plain": [
       "   Gender  Ever_Married       Age  Graduated  Profession  Work_Experience  \\\n",
       "0     0.0           1.0  0.253521        1.0       0.375         0.000000   \n",
       "1     1.0           1.0  0.267606        1.0       0.125         0.571429   \n",
       "2     0.0           1.0  0.718310        0.0       0.000         0.000000   \n",
       "3     1.0           1.0  0.577465        0.0       0.750         0.785714   \n",
       "4     0.0           0.0  0.014085        0.0       0.875         0.071429   \n",
       "\n",
       "   Spending_Score  Family_Size     Var_1  \n",
       "0             0.0        0.000  0.833333  \n",
       "1             0.5        0.375  0.833333  \n",
       "2             0.0        0.000  0.833333  \n",
       "3             1.0        0.125  0.833333  \n",
       "4             0.0        0.375  0.833333  "
      ]
     },
     "execution_count": 82,
     "metadata": {},
     "output_type": "execute_result"
    }
   ],
   "source": [
    "from sklearn.preprocessing import MinMaxScaler\n",
    "scaler = MinMaxScaler()\n",
    "x[['Gender','Ever_Married','Age', 'Graduated', 'Profession', 'Work_Experience', 'Spending_Score', 'Family_Size', 'Var_1' ]] = scaler.fit_transform(x[['Gender','Ever_Married','Age', 'Graduated', 'Profession', 'Work_Experience', 'Spending_Score', 'Family_Size', 'Var_1']])\n",
    "x.head()"
   ]
  },
  {
   "cell_type": "code",
   "execution_count": null,
   "metadata": {},
   "outputs": [],
   "source": [
    "from sklearn.cluster import KMeans\n",
    "from sklearn.decomposition import PCA \n",
    "kmeans = KMeans(n_clusters=3, random_state=42) \n",
    "kmeans.fit(x) \n",
    "y_kmeans = kmeans.predict(x) \n",
    "pca = PCA(n_components=2)\n",
    "x_pca = pca.fit_transform(x)"
   ]
  },
  {
   "cell_type": "code",
   "execution_count": 110,
   "metadata": {},
   "outputs": [
    {
     "data": {
      "text/plain": [
       "array([1, 0, 1, ..., 2, 2, 0])"
      ]
     },
     "execution_count": 110,
     "metadata": {},
     "output_type": "execute_result"
    }
   ],
   "source": [
    "y_kmeans"
   ]
  },
  {
   "cell_type": "code",
   "execution_count": null,
   "metadata": {},
   "outputs": [
    {
     "data": {
      "image/png": "[encoded data removed]",
      "text/plain": [
       "<Figure size 640x480 with 1 Axes>"
      ]
     },
     "metadata": {},
     "output_type": "display_data"
    }
   ],
   "source": [
    "plt.scatter(x_pca[:, 0], x_pca[:, 1], c=y_kmeans, cmap='viridis', marker='o') \n",
    "plt.title('Clustering K-Means')\n",
    "plt.show() "
   ]
  },
  {
   "cell_type": "code",
   "execution_count": null,
   "metadata": {},
   "outputs": [],
   "source": [
    "from sklearn.cluster import DBSCAN \n",
    "dbscan = DBSCAN(eps=0.5, min_samples=3)\n",
    "y_dbscan = dbscan.fit_predict(x) \n",
    "pca = PCA(n_components=2)\n",
    "x_pca = pca.fit_transform(x)"
   ]
  },
  {
   "cell_type": "code",
   "execution_count": 131,
   "metadata": {},
   "outputs": [
    {
     "data": {
      "image/png": "[encoded data removed]",
      "text/plain": [
       "<Figure size 640x480 with 1 Axes>"
      ]
     },
     "metadata": {},
     "output_type": "display_data"
    }
   ],
   "source": [
    "plt.scatter(x_pca[:, 0], x_pca[:, 1], c=y_dbscan, cmap='plasma', marker='o') \n",
    "plt.title('Clustering DBSCAN - Dataset Iris') \n",
    "plt.show() "
   ]
  },
  {
   "cell_type": "code",
   "execution_count": 134,
   "metadata": {},
   "outputs": [],
   "source": [
    "from scipy.cluster.hierarchy import dendrogram, linkage \n",
    "Z = linkage(x, method='ward') "
   ]
  },
  {
   "cell_type": "code",
   "execution_count": 136,
   "metadata": {},
   "outputs": [
    {
     "data": {
      "image/png": "[encoded data removed]",
      "text/plain": [
       "<Figure size 1000x600 with 1 Axes>"
      ]
     },
     "metadata": {},
     "output_type": "display_data"
    }
   ],
   "source": [
    "plt.figure(figsize=(10, 6)) \n",
    "dendrogram(Z, truncate_mode='lastp', p=30, leaf_font_size=12., show_contracted=True) \n",
    "plt.title('Clustering Jerárquico') \n",
    "plt.xlabel('Número de muestras') \n",
    "plt.ylabel('Distancia') \n",
    "plt.show() "
   ]
  },
  {
   "cell_type": "code",
   "execution_count": 138,
   "metadata": {},
   "outputs": [],
   "source": [
    "# Guardar etiquetas de clustering\n",
    "customer_df['Cluster_KMeans'] = y_kmeans\n",
    "customer_df['Cluster_DBSCAN'] = y_dbscan\n",
    "from scipy.cluster.hierarchy import fcluster\n",
    "customer_df['Cluster_Hierarchical'] = fcluster(Z, t=3, criterion='maxclust')\n"
   ]
  },
  {
   "cell_type": "code",
   "execution_count": 139,
   "metadata": {},
   "outputs": [
    {
     "name": "stdout",
     "output_type": "stream",
     "text": [
      "Silhouette Score - KMeans: 0.584\n",
      "Inercia - KMeans: 7226.17\n",
      "Silhouette Score - DBSCAN: 0.623\n",
      "Silhouette Score - Jerárquico: 0.584\n"
     ]
    }
   ],
   "source": [
    "from sklearn.metrics import silhouette_score\n",
    "\n",
    "# KMeans\n",
    "silhouette_kmeans = silhouette_score(x, y_kmeans)\n",
    "print(f\"Silhouette Score - KMeans: {silhouette_kmeans:.3f}\")\n",
    "print(f\"Inercia - KMeans: {kmeans.inertia_:.2f}\")\n",
    "\n",
    "# DBSCAN (ignora outliers)\n",
    "mask_dbscan = y_dbscan != -1\n",
    "silhouette_dbscan = silhouette_score(x[mask_dbscan], y_dbscan[mask_dbscan])\n",
    "print(f\"Silhouette Score - DBSCAN: {silhouette_dbscan:.3f}\")\n",
    "\n",
    "# Jerárquico\n",
    "silhouette_hierarchical = silhouette_score(x, customer_df['Cluster_Hierarchical'])\n",
    "print(f\"Silhouette Score - Jerárquico: {silhouette_hierarchical:.3f}\")\n"
   ]
  },
  {
   "cell_type": "markdown",
   "metadata": {},
   "source": [
    "### Conclusiones:\n",
    "\n",
    "- **KMeans**: Con un Silhouette Score de **0.584** y una inercia de **7226.17**, el modelo genera clusters razonablemente definidos, aunque se podrían explorar más valores de clusters para optimizar.\n",
    "- **DBSCAN**: Con un Silhouette Score de **0.623**, ofrece los mejores resultados, detectando clusters bien diferenciados y gestionando los outliers de forma efectiva.\n",
    "- **Jerárquico**: Similar a KMeans, con un Silhouette Score de **0.584**, proporciona buena segmentación y visualización a través del dendrograma.\n",
    "\n",
    "En general, **DBSCAN** es el mejor método en términos de calidad de clustering, mientras que **KMeans** y **Jerárquico** también ofrecen segmentaciones válidas.\n"
   ]
  }
 ],
 "metadata": {
  "kernelspec": {
   "display_name": "Python 3",
   "language": "python",
   "name": "python3"
  },
  "language_info": {
   "codemirror_mode": {
    "name": "ipython",
    "version": 3
   },
   "file_extension": ".py",
   "mimetype": "text/x-python",
   "name": "python",
   "nbconvert_exporter": "python",
   "pygments_lexer": "ipython3",
   "version": "3.11.9"
  }
 },
 "nbformat": 4,
 "nbformat_minor": 2
}
